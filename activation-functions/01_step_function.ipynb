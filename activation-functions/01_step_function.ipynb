{
  "nbformat": 4,
  "nbformat_minor": 0,
  "metadata": {
    "colab": {
      "provenance": [],
      "authorship_tag": "ABX9TyM9KRIj9srwdh1NadGQWAmA",
      "include_colab_link": true
    },
    "kernelspec": {
      "name": "python3",
      "display_name": "Python 3"
    },
    "language_info": {
      "name": "python"
    }
  },
  "cells": [
    {
      "cell_type": "markdown",
      "metadata": {
        "id": "view-in-github",
        "colab_type": "text"
      },
      "source": [
        "<a href=\"https://colab.research.google.com/github/archanadby05/Neural_Network_from_Scratch/blob/master/activation-functions/01_step_function.ipynb\" target=\"_parent\"><img src=\"https://colab.research.google.com/assets/colab-badge.svg\" alt=\"Open In Colab\"/></a>"
      ]
    },
    {
      "cell_type": "markdown",
      "source": [
        "## Step Function and Perceptron for AND Gate\n"
      ],
      "metadata": {
        "id": "xbBTcJwqXbRN"
      }
    },
    {
      "cell_type": "markdown",
      "source": [
        "### 01. Define Step Function"
      ],
      "metadata": {
        "id": "oeCmH4X0XbOW"
      }
    },
    {
      "cell_type": "markdown",
      "source": [
        "We implement the binary step function, a threshold-based activation used in early perceptrons."
      ],
      "metadata": {
        "id": "RVsKaPu7XbLX"
      }
    },
    {
      "cell_type": "code",
      "source": [
        "import numpy as np\n",
        "import matplotlib.pyplot as plt\n",
        "\n",
        "def step_function(x):\n",
        "    return np.where(x >= 0, 1, 0)"
      ],
      "metadata": {
        "id": "jNewae6-Xh5A"
      },
      "execution_count": 1,
      "outputs": []
    },
    {
      "cell_type": "markdown",
      "source": [
        "*Explanation:*\n",
        "\n",
        "The step function outputs 1 if input is ≥ 0, otherwise 0. It introduces non-linearity but is not differentiable, making it incompatible with gradient-based training."
      ],
      "metadata": {
        "id": "NkfvYCPZXbH9"
      }
    },
    {
      "cell_type": "markdown",
      "source": [
        "### 02. Create AND Dataset"
      ],
      "metadata": {
        "id": "2i2hO8EaXa_5"
      }
    },
    {
      "cell_type": "markdown",
      "source": [
        "We define the dataset for the logical AND operation."
      ],
      "metadata": {
        "id": "Q-slQVr5Xo-X"
      }
    },
    {
      "cell_type": "code",
      "source": [
        "# Input and expected output for AND gate\n",
        "X = np.array([[0, 0],\n",
        "              [0, 1],\n",
        "              [1, 0],\n",
        "              [1, 1]])\n",
        "\n",
        "y = np.array([0, 0, 0, 1])"
      ],
      "metadata": {
        "id": "_1zdh4_2Xqib"
      },
      "execution_count": 2,
      "outputs": []
    },
    {
      "cell_type": "markdown",
      "source": [
        "*Explanation:*\n",
        "\n",
        "This dataset represents the AND logic gate, where the output is 1 only if both inputs are 1."
      ],
      "metadata": {
        "id": "pHTT68X2Xo7r"
      }
    },
    {
      "cell_type": "markdown",
      "source": [
        "### 03. Train Perceptron (Manual Weights)"
      ],
      "metadata": {
        "id": "2UfoOTULXo47"
      }
    },
    {
      "cell_type": "markdown",
      "source": [
        "We manually train a perceptron using the step function activation."
      ],
      "metadata": {
        "id": "9PJtlxTwXo2M"
      }
    },
    {
      "cell_type": "code",
      "source": [
        "# Initialize weights and bias\n",
        "W = np.array([1.0, 1.0])\n",
        "b = -1.5\n",
        "\n",
        "def perceptron(X):\n",
        "    return step_function(np.dot(X, W) + b)\n",
        "\n",
        "predictions = perceptron(X)\n",
        "print(\"Predictions:\", predictions)"
      ],
      "metadata": {
        "colab": {
          "base_uri": "https://localhost:8080/"
        },
        "id": "BAZ_EGHcXzPa",
        "outputId": "2f007471-2c05-4f59-9762-63abd9dddc0b"
      },
      "execution_count": 3,
      "outputs": [
        {
          "output_type": "stream",
          "name": "stdout",
          "text": [
            "Predictions: [0 0 0 1]\n"
          ]
        }
      ]
    },
    {
      "cell_type": "markdown",
      "source": [
        "*Explanation:*\n",
        "\n",
        "Using weights [1.0, 1.0] and bias -1.5 works for the AND gate. Since the step function is non-differentiable, no gradient-based updates are used here."
      ],
      "metadata": {
        "id": "GwKqSz3vXozb"
      }
    },
    {
      "cell_type": "markdown",
      "source": [
        "### 04. Visualize Decision Boundary"
      ],
      "metadata": {
        "id": "SOCM_lCDXowS"
      }
    },
    {
      "cell_type": "markdown",
      "source": [
        "We plot the decision surface created by this simple perceptron."
      ],
      "metadata": {
        "id": "xg1uaZbWXotk"
      }
    },
    {
      "cell_type": "code",
      "source": [
        "# Plotting decision boundary\n",
        "x_min, x_max = -0.1, 1.1\n",
        "y_min, y_max = -0.1, 1.1\n",
        "xx, yy = np.meshgrid(np.linspace(x_min, x_max, 200),\n",
        "                     np.linspace(y_min, y_max, 200))\n",
        "\n",
        "Z = perceptron(np.c_[xx.ravel(), yy.ravel()])\n",
        "Z = Z.reshape(xx.shape)\n",
        "\n",
        "plt.contourf(xx, yy, Z, alpha=0.3, levels=[-1, 0, 1], colors=[\"#FFAAAA\", \"#AAFFAA\"])\n",
        "plt.scatter(X[:, 0], X[:, 1], c=y, edgecolors='k', cmap=plt.cm.binary)\n",
        "plt.title(\"Decision Boundary of Step Function Perceptron (AND Gate)\")\n",
        "plt.xlabel(\"x1\")\n",
        "plt.ylabel(\"x2\")\n",
        "plt.grid(True)\n",
        "plt.show()"
      ],
      "metadata": {
        "colab": {
          "base_uri": "https://localhost:8080/",
          "height": 472
        },
        "id": "xcm71ZoyX_-y",
        "outputId": "eda3a22a-5d15-4482-affa-eca94cb734fd"
      },
      "execution_count": 4,
      "outputs": [
        {
          "output_type": "display_data",
          "data": {
            "text/plain": [
              "<Figure size 640x480 with 1 Axes>"
            ],
            "image/png": "[encoded data removed]"
          },
          "metadata": {}
        }
      ]
    },
    {
      "cell_type": "markdown",
      "source": [
        "*Explanation:*\n",
        "\n",
        "This plot shows how the perceptron splits input space into 0s and 1s using a linear decision boundary."
      ],
      "metadata": {
        "id": "5BH8hiNCXoqz"
      }
    },
    {
      "cell_type": "markdown",
      "source": [
        "### 05. Why Not Suitable for Gradient Descent?"
      ],
      "metadata": {
        "id": "IywrIbdCYHit"
      }
    },
    {
      "cell_type": "markdown",
      "source": [
        "The step function's derivative is zero almost everywhere and undefined at 0, making it impossible to compute meaningful gradients. Thus, it's not used in modern neural networks trained with backpropagation.\n",
        "\n"
      ],
      "metadata": {
        "id": "JkhRqfMiYHfz"
      }
    }
  ]
}