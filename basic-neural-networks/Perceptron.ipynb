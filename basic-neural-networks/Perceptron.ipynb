{
  "nbformat": 4,
  "nbformat_minor": 0,
  "metadata": {
    "colab": {
      "provenance": [],
      "authorship_tag": "ABX9TyM+BYeXJvrPVDhIpXwm9Gi5",
      "include_colab_link": true
    },
    "kernelspec": {
      "name": "python3",
      "display_name": "Python 3"
    },
    "language_info": {
      "name": "python"
    }
  },
  "cells": [
    {
      "cell_type": "markdown",
      "metadata": {
        "id": "view-in-github",
        "colab_type": "text"
      },
      "source": [
        "<a href=\"https://colab.research.google.com/github/archanadby05/Neural_Network_from_Scratch/blob/master/basic-neural-networks/Perceptron.ipynb\" target=\"_parent\"><img src=\"https://colab.research.google.com/assets/colab-badge.svg\" alt=\"Open In Colab\"/></a>"
      ]
    },
    {
      "cell_type": "markdown",
      "source": [
        "## **Recap - McCulloch-Pitts Neuron**\n",
        "*italicized text*"
      ],
      "metadata": {
        "id": "UmzlvEhsVzRO"
      }
    },
    {
      "cell_type": "markdown",
      "source": [
        "The McCulloch-Pitts (MCP) neuron is a binary classifier that works by applying weights to inputs and comparing the weighted sum to a threshold (bias).\n",
        "\n",
        "It does not **learn** from data and cannot adapt its weights. That's why we move from MCP to Perceptron, which learns.\n",
        "\n",
        "We need a way to **adjust** the weights over time based on errors."
      ],
      "metadata": {
        "id": "bLb4doPEWJ6B"
      }
    },
    {
      "cell_type": "markdown",
      "source": [
        "## **01. Define a Simple, Manual Perceptron**"
      ],
      "metadata": {
        "id": "HOmeol5MWWqS"
      }
    },
    {
      "cell_type": "code",
      "source": [
        "import numpy as np"
      ],
      "metadata": {
        "id": "TWKClAU4WIOv"
      },
      "execution_count": 1,
      "outputs": []
    },
    {
      "cell_type": "code",
      "source": [
        "# Example: AND gate\n",
        "inputs = np.array([[0, 0], [0, 1], [1, 0], [1, 1]])\n",
        "labels = np.array([0, 0, 0, 1])  # Expected outputs for AND gate"
      ],
      "metadata": {
        "id": "2BHkABG9WeuX"
      },
      "execution_count": 2,
      "outputs": []
    },
    {
      "cell_type": "code",
      "source": [
        "# Manually set weights and bias\n",
        "weights = np.array([0.5, 0.5])\n",
        "bias = -0.7"
      ],
      "metadata": {
        "id": "dRbja76GWoAD"
      },
      "execution_count": 3,
      "outputs": []
    },
    {
      "cell_type": "markdown",
      "source": [
        "## **02. Define the Step Function**"
      ],
      "metadata": {
        "id": "wcliuADiWv93"
      }
    },
    {
      "cell_type": "markdown",
      "source": [
        "A simple binary step function (threshold function) that determines output\n",
        "\n",
        "It outputs 1 if the weighted sum is >= 0, else it outputs 0."
      ],
      "metadata": {
        "id": "h_vfZLQwW9b2"
      }
    },
    {
      "cell_type": "code",
      "source": [
        "def step_function(x):\n",
        "    return 1 if x >= 0 else 0"
      ],
      "metadata": {
        "id": "esXOyKN8W0c1"
      },
      "execution_count": 4,
      "outputs": []
    },
    {
      "cell_type": "markdown",
      "source": [
        "## **03. Calculate Output Manually**"
      ],
      "metadata": {
        "id": "hGG3zFIwXCZx"
      }
    },
    {
      "cell_type": "markdown",
      "source": [
        "Now, for each input, calculate the weighted sum and apply the step function."
      ],
      "metadata": {
        "id": "7vg1snRNXK9X"
      }
    },
    {
      "cell_type": "code",
      "source": [
        "# List to store the outputs\n",
        "\n",
        "outputs = []"
      ],
      "metadata": {
        "id": "ccEWnVI3XH5m"
      },
      "execution_count": 6,
      "outputs": []
    },
    {
      "cell_type": "code",
      "source": [
        "for i in range(len(inputs)):\n",
        "    # Weighted sum: (input1*weight1) + (input2*weight2) + bias\n",
        "\n",
        "    weighted_sum = np.dot(inputs[i], weights) + bias\n",
        "\n",
        "    output = step_function(weighted_sum)  # Apply the step function\n",
        "    outputs.append(output)"
      ],
      "metadata": {
        "id": "ZwHCZXovXQN8"
      },
      "execution_count": 7,
      "outputs": []
    },
    {
      "cell_type": "code",
      "source": [
        "print(\"Manual Perceptron outputs:\", outputs)"
      ],
      "metadata": {
        "colab": {
          "base_uri": "https://localhost:8080/"
        },
        "id": "tHRgarp1XW9x",
        "outputId": "cccf407d-080b-44a4-f6ff-d6367bb25825"
      },
      "execution_count": 8,
      "outputs": [
        {
          "output_type": "stream",
          "name": "stdout",
          "text": [
            "Manual Perceptron outputs: [0, 0, 0, 1]\n"
          ]
        }
      ]
    },
    {
      "cell_type": "markdown",
      "source": [
        "## **04. Perceptron Class Implementation**"
      ],
      "metadata": {
        "id": "NKmiWV8VXa10"
      }
    },
    {
      "cell_type": "markdown",
      "source": [
        "Now, we want to make the perceptron reusable by converting it into a class.\n",
        "\n",
        "This will make it easier to train and predict with any dataset."
      ],
      "metadata": {
        "id": "L4bCrjIBXcJS"
      }
    },
    {
      "cell_type": "code",
      "source": [
        "# import numpy as np"
      ],
      "metadata": {
        "id": "SzOl-twWX2_d"
      },
      "execution_count": 9,
      "outputs": []
    },
    {
      "cell_type": "code",
      "source": [
        "inputs = np.array([[0, 0], [0, 1], [1, 0], [1, 1]])\n",
        "labels = np.array([0, 0, 0, 1])"
      ],
      "metadata": {
        "id": "XfmkNsm3X275"
      },
      "execution_count": 10,
      "outputs": []
    },
    {
      "cell_type": "code",
      "source": [
        "class Perceptron:\n",
        "    def __init__(self, input_dim, learning_rate=0.1, epochs=1000):\n",
        "        \"\"\"\n",
        "        Initialize the perceptron with the number of inputs (input_dim),\n",
        "        learning rate, and number of epochs for training.\n",
        "        \"\"\"\n",
        "        self.input_dim = input_dim\n",
        "        self.learning_rate = learning_rate\n",
        "        self.epochs = epochs\n",
        "        self.weights = np.zeros(input_dim)  # Initialize weights to zero\n",
        "        self.bias = 0  # Initialize bias to zero\n",
        "\n",
        "    def step_function(self, x):\n",
        "        if x >= 0:\n",
        "          return 1\n",
        "        else:\n",
        "          return 0\n",
        "\n",
        "    def fit(self, X, y):\n",
        "        \"\"\"\n",
        "        Train the perceptron on dataset X (inputs) and y (labels).\n",
        "        Adjust weights based on the error using the perceptron learning rule.\n",
        "\n",
        "        Args:\n",
        "        X (array-like): Input data.\n",
        "        y (array-like): Corresponding labels.\n",
        "        \"\"\"\n",
        "        for epoch in range(self.epochs):\n",
        "            for inputs, label in zip(X, y):\n",
        "                weighted_sum = np.dot(inputs, self.weights) + self.bias\n",
        "                prediction = self.step_function(weighted_sum)\n",
        "                error = label - prediction\n",
        "                self.weights += self.learning_rate * error * inputs\n",
        "                self.bias += self.learning_rate * error\n",
        "\n",
        "    def predict(self, X):\n",
        "        \"\"\"\n",
        "        Predict outputs for the given inputs X based on learned weights.\n",
        "\n",
        "        Args:\n",
        "        X (array-like): Input data.\n",
        "\n",
        "        Returns:\n",
        "        list: Predictions for the input data.\n",
        "        \"\"\"\n",
        "        return [self.step_function(np.dot(inputs, self.weights) + self.bias) for inputs in X]"
      ],
      "metadata": {
        "id": "WHeagLqvXlzj"
      },
      "execution_count": 11,
      "outputs": []
    },
    {
      "cell_type": "code",
      "source": [
        "perceptron = Perceptron(input_dim=2)\n",
        "perceptron.fit(inputs, labels)\n",
        "predictions = perceptron.predict(inputs)"
      ],
      "metadata": {
        "id": "8HEifoHxY5sQ"
      },
      "execution_count": 12,
      "outputs": []
    },
    {
      "cell_type": "code",
      "source": [
        "print(\"Perceptron predictions for AND gate:\", predictions)"
      ],
      "metadata": {
        "colab": {
          "base_uri": "https://localhost:8080/"
        },
        "id": "uhnUmqIjY80m",
        "outputId": "a59de7f0-16b8-4d99-a4e8-36aad1ed8e9a"
      },
      "execution_count": 13,
      "outputs": [
        {
          "output_type": "stream",
          "name": "stdout",
          "text": [
            "Perceptron predictions for AND gate: [0, 0, 0, 1]\n"
          ]
        }
      ]
    },
    {
      "cell_type": "markdown",
      "source": [
        "## **05. Visualize the Decision Boundary**"
      ],
      "metadata": {
        "id": "hrZcan8dZc7A"
      }
    },
    {
      "cell_type": "markdown",
      "source": [
        "Plotting decision boundary to see how the perceptron classifies inputs"
      ],
      "metadata": {
        "id": "X0-OFMDCZkzK"
      }
    },
    {
      "cell_type": "code",
      "source": [
        "## Visualize the decision boundary learned by the model.\n",
        "## Plot the data points and decision regions."
      ],
      "metadata": {
        "id": "8mJE09LtZ1lr"
      },
      "execution_count": 17,
      "outputs": []
    },
    {
      "cell_type": "code",
      "source": [
        "import matplotlib.pyplot as plt"
      ],
      "metadata": {
        "id": "Z0qCNHAfZing"
      },
      "execution_count": 14,
      "outputs": []
    },
    {
      "cell_type": "code",
      "source": [
        "def plot_decision_boundary(X, y, model, title=\"Decision Boundary\"):\n",
        "    x_min, x_max = X[:, 0].min() - 1, X[:, 0].max() + 1\n",
        "    y_min, y_max = X[:, 1].min() - 1, X[:, 1].max() + 1\n",
        "    xx, yy = np.meshgrid(np.arange(x_min, x_max, 0.1), np.arange(y_min, y_max, 0.1))\n",
        "\n",
        "    grid_points = np.c_[xx.ravel(), yy.ravel()]\n",
        "    predictions = np.array(model.predict(grid_points)).reshape(xx.shape)\n",
        "\n",
        "    plt.contourf(xx, yy, predictions, alpha=0.4)\n",
        "    plt.scatter(X[:, 0], X[:, 1], c=y, edgecolors='k', marker='o', s=100, cmap=plt.cm.RdYlBu)\n",
        "    plt.title(title)\n",
        "    plt.show()"
      ],
      "metadata": {
        "id": "qHGJhpMVZqwb"
      },
      "execution_count": 18,
      "outputs": []
    },
    {
      "cell_type": "code",
      "source": [
        "plot_decision_boundary(inputs, labels, perceptron, title=\"AND Gate Decision Boundary\")"
      ],
      "metadata": {
        "colab": {
          "base_uri": "https://localhost:8080/",
          "height": 452
        },
        "id": "GjzU_5PMaB3O",
        "outputId": "3fc049b8-088d-4b38-f246-e014652fd8b6"
      },
      "execution_count": 19,
      "outputs": [
        {
          "output_type": "display_data",
          "data": {
            "text/plain": [
              "<Figure size 640x480 with 1 Axes>"
            ],
            "image/png": "[encoded data removed]"
          },
          "metadata": {}
        }
      ]
    }
  ]
}