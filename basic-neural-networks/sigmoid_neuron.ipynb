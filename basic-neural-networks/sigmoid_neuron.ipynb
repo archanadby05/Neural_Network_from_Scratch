{
  "nbformat": 4,
  "nbformat_minor": 0,
  "metadata": {
    "colab": {
      "provenance": [],
      "authorship_tag": "ABX9TyM0NLQese5B4jR2q2I9Xgsd",
      "include_colab_link": true
    },
    "kernelspec": {
      "name": "python3",
      "display_name": "Python 3"
    },
    "language_info": {
      "name": "python"
    }
  },
  "cells": [
    {
      "cell_type": "markdown",
      "metadata": {
        "id": "view-in-github",
        "colab_type": "text"
      },
      "source": [
        "<a href=\"https://colab.research.google.com/github/archanadby05/Neural_Network_from_Scratch/blob/master/basic-neural-networks/sigmoid_neuron.ipynb\" target=\"_parent\"><img src=\"https://colab.research.google.com/assets/colab-badge.svg\" alt=\"Open In Colab\"/></a>"
      ]
    },
    {
      "cell_type": "markdown",
      "source": [
        "This Colab notebook demonstrates how to build a simple sigmoid neuron manually and visualize its behavior.\n"
      ],
      "metadata": {
        "id": "wMRObVfJy6_2"
      }
    },
    {
      "cell_type": "markdown",
      "source": [
        "## **Recap - Sigmoid Neuron**  "
      ],
      "metadata": {
        "id": "gmO-STtWy95m"
      }
    },
    {
      "cell_type": "markdown",
      "source": [
        "A sigmoid neuron computes a weighted sum of inputs and passes it through the sigmoid function.\n",
        "\n",
        "It produces output in the range (0, 1), making it useful for binary classification.\n"
      ],
      "metadata": {
        "id": "SABZQwXvzDMu"
      }
    },
    {
      "cell_type": "markdown",
      "source": [
        "### **01. Define the Sigmoid Function**"
      ],
      "metadata": {
        "id": "X7f4-dqvzHqO"
      }
    },
    {
      "cell_type": "markdown",
      "source": [
        "This function squashes any real-valued input into a value between 0 and 1.\n"
      ],
      "metadata": {
        "id": "U9Q_JTSWzMC1"
      }
    },
    {
      "cell_type": "code",
      "source": [
        "import numpy as np\n",
        "import matplotlib.pyplot as plt"
      ],
      "metadata": {
        "id": "rSmtBCGsy7tE"
      },
      "execution_count": 1,
      "outputs": []
    },
    {
      "cell_type": "code",
      "source": [
        "def sigmoid(x):\n",
        "    return 1 / (1 + np.exp(-x))"
      ],
      "metadata": {
        "id": "A9PwzPStzPPy"
      },
      "execution_count": 2,
      "outputs": []
    },
    {
      "cell_type": "markdown",
      "source": [
        "*Explanation:*  \n",
        "The sigmoid activation introduces non-linearity and is differentiable, allowing gradient-based optimization.\n"
      ],
      "metadata": {
        "id": "GmYp19cozXWy"
      }
    },
    {
      "cell_type": "markdown",
      "source": [
        "### **02. Create SigmoidNeuron Class**  "
      ],
      "metadata": {
        "id": "Erk94cB8zcIA"
      }
    },
    {
      "cell_type": "code",
      "source": [
        "class SigmoidNeuron:\n",
        "    def __init__(self, input_dim):\n",
        "        self.weights = np.zeros(input_dim)\n",
        "        self.bias = 0\n",
        "\n",
        "    def forward(self, x):\n",
        "        z = np.dot(x, self.weights) + self.bias\n",
        "        return sigmoid(z)"
      ],
      "metadata": {
        "id": "gnIncfYozdXU"
      },
      "execution_count": 3,
      "outputs": []
    },
    {
      "cell_type": "markdown",
      "source": [
        "*Explanation:*  \n",
        "This neuron initializes weights to zero and computes a forward pass using the sigmoid activation.\n"
      ],
      "metadata": {
        "id": "sY9r6u5vzhuW"
      }
    },
    {
      "cell_type": "markdown",
      "source": [
        "### **03. Manual Forward Pass**  "
      ],
      "metadata": {
        "id": "rRYqHK3RzkmR"
      }
    },
    {
      "cell_type": "markdown",
      "source": [
        "We create a sigmoid neuron, pass in inputs, and compute the output."
      ],
      "metadata": {
        "id": "yJQeMUyQzn_S"
      }
    },
    {
      "cell_type": "code",
      "source": [
        "inputs = np.array([0.5, -0.6])\n",
        "neuron = SigmoidNeuron(input_dim=2)\n",
        "output = neuron.forward(inputs)\n",
        "print(\"Sigmoid output:\", output)"
      ],
      "metadata": {
        "colab": {
          "base_uri": "https://localhost:8080/"
        },
        "id": "zkXoyDtkznPY",
        "outputId": "851da1a0-1bd4-4f24-cfcc-64fd93f31072"
      },
      "execution_count": 5,
      "outputs": [
        {
          "output_type": "stream",
          "name": "stdout",
          "text": [
            "Sigmoid output: 0.5\n"
          ]
        }
      ]
    },
    {
      "cell_type": "markdown",
      "source": [
        "*Explanation:*  \n",
        "This tests the neuron with example input data and prints the activated output."
      ],
      "metadata": {
        "id": "wVsGE_Fozri0"
      }
    },
    {
      "cell_type": "markdown",
      "source": [
        "### **04. Plot Sigmoid Function Curve**  "
      ],
      "metadata": {
        "id": "87ghv1FHztcp"
      }
    },
    {
      "cell_type": "markdown",
      "source": [
        "Visualize how the sigmoid function behaves across a range of values.\n"
      ],
      "metadata": {
        "id": "2B1qInAIzvvl"
      }
    },
    {
      "cell_type": "code",
      "source": [
        "x_vals = np.linspace(-10, 10, 100)\n",
        "y_vals = sigmoid(x_vals)\n",
        "\n",
        "plt.plot(x_vals, y_vals, label=\"Sigmoid Function\", color=\"blue\")\n",
        "plt.title(\"Sigmoid Activation Function\")\n",
        "plt.xlabel(\"Input (z)\")\n",
        "plt.ylabel(\"Output (sigmoid(z))\")\n",
        "plt.grid(True)\n",
        "plt.legend()\n",
        "plt.show()"
      ],
      "metadata": {
        "colab": {
          "base_uri": "https://localhost:8080/",
          "height": 472
        },
        "id": "O0g8AT7LzqCX",
        "outputId": "d6995657-4990-49d1-dd64-fdfb47378dcb"
      },
      "execution_count": 6,
      "outputs": [
        {
          "output_type": "display_data",
          "data": {
            "text/plain": [
              "<Figure size 640x480 with 1 Axes>"
            ],
            "image/png": "[encoded data removed]"
          },
          "metadata": {}
        }
      ]
    },
    {
      "cell_type": "markdown",
      "source": [
        "*Explanation:*  \n",
        "The plot shows how the sigmoid smoothly maps inputs to a (0, 1) output range."
      ],
      "metadata": {
        "id": "vPsLE4JHz0ic"
      }
    }
  ]
}