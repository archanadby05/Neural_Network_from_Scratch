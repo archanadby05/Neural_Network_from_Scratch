{
  "nbformat": 4,
  "nbformat_minor": 0,
  "metadata": {
    "colab": {
      "provenance": [],
      "authorship_tag": "ABX9TyMMwwquX3TMIKriVjB0dV6g",
      "include_colab_link": true
    },
    "kernelspec": {
      "name": "python3",
      "display_name": "Python 3"
    },
    "language_info": {
      "name": "python"
    }
  },
  "cells": [
    {
      "cell_type": "markdown",
      "metadata": {
        "id": "view-in-github",
        "colab_type": "text"
      },
      "source": [
        "<a href=\"https://colab.research.google.com/github/archanadby05/Neural_Network_from_Scratch/blob/master/basic-neural-networks/relu_neuron.ipynb\" target=\"_parent\"><img src=\"https://colab.research.google.com/assets/colab-badge.svg\" alt=\"Open In Colab\"/></a>"
      ]
    },
    {
      "cell_type": "markdown",
      "source": [
        "## ReLU Neuron - Faster Modern Activation"
      ],
      "metadata": {
        "id": "todrR4tk1J6l"
      }
    },
    {
      "cell_type": "markdown",
      "source": [
        "### **01. Define the ReLU Function and Its Derivative**"
      ],
      "metadata": {
        "id": "PbRFJc4b1MT_"
      }
    },
    {
      "cell_type": "markdown",
      "source": [
        "The Rectified Linear Unit (ReLU) activation function outputs the input if it’s positive and zero otherwise. It’s commonly used in modern neural networks due to its simplicity and efficiency."
      ],
      "metadata": {
        "id": "H-oVpl091PMr"
      }
    },
    {
      "cell_type": "code",
      "execution_count": 3,
      "metadata": {
        "id": "xDfi5m6F0yyo"
      },
      "outputs": [],
      "source": [
        "import numpy as np\n",
        "import matplotlib.pyplot as plt\n",
        "\n",
        "# ReLU activation and its derivative\n",
        "def relu(x):\n",
        "    return np.maximum(0, x)\n",
        "\n",
        "def relu_derivative(x):\n",
        "    return np.where(x > 0, 1, 0)"
      ]
    },
    {
      "cell_type": "markdown",
      "source": [
        "*Explanation:*\n",
        "\n",
        "ReLU is a piecewise linear function: it returns 0 for negative values and the input itself for positive values. Its derivative is 1 for positive inputs and 0 otherwise."
      ],
      "metadata": {
        "id": "dOp9OCPK1O26"
      }
    },
    {
      "cell_type": "markdown",
      "source": [
        "### **02. Define ReLUNeuron Class**"
      ],
      "metadata": {
        "id": "S1SsGQhN1bGV"
      }
    },
    {
      "cell_type": "markdown",
      "source": [
        "We create a class for the ReLU neuron, using the ReLU activation function for the forward pass."
      ],
      "metadata": {
        "id": "Y8KKIJw91eDP"
      }
    },
    {
      "cell_type": "code",
      "source": [
        "class ReLUNeuron:\n",
        "    def __init__(self, input_dim):\n",
        "        self.weights = np.zeros(input_dim)\n",
        "        self.bias = 0\n",
        "\n",
        "    def forward(self, x):\n",
        "        z = np.dot(x, self.weights) + self.bias\n",
        "        return relu(z)"
      ],
      "metadata": {
        "id": "0aNdT1Hs1fN2"
      },
      "execution_count": 4,
      "outputs": []
    },
    {
      "cell_type": "markdown",
      "source": [
        "*Explanation:*\n",
        "\n",
        "This class initializes weights to zero and applies the ReLU activation after computing a weighted sum of inputs."
      ],
      "metadata": {
        "id": "TvKOXFDv1hGa"
      }
    },
    {
      "cell_type": "markdown",
      "source": [
        "### **03. Demonstrate ReLU Activation on Positive and Negative Inputs**"
      ],
      "metadata": {
        "id": "8OxEyP0O1k7j"
      }
    },
    {
      "cell_type": "markdown",
      "source": [
        "We’ll test the ReLU neuron with both positive and negative input values."
      ],
      "metadata": {
        "id": "3fizh7Mh1oeb"
      }
    },
    {
      "cell_type": "code",
      "source": [
        "inputs = np.array([1.0, -1.5])\n",
        "neuron = ReLUNeuron(input_dim=2)\n",
        "output = neuron.forward(inputs)\n",
        "\n",
        "print(\"ReLU neuron output:\", output)"
      ],
      "metadata": {
        "colab": {
          "base_uri": "https://localhost:8080/"
        },
        "id": "kM_zx2-v1Zu8",
        "outputId": "804f34f1-f8af-49ce-ab37-9f4b88f05138"
      },
      "execution_count": 5,
      "outputs": [
        {
          "output_type": "stream",
          "name": "stdout",
          "text": [
            "ReLU neuron output: 0.0\n"
          ]
        }
      ]
    },
    {
      "cell_type": "markdown",
      "source": [
        "*Explanation:*\n",
        "\n",
        "We test the ReLU neuron with an array containing both positive and negative values, demonstrating how ReLU zeroes out negative values and passes positive values through unchanged."
      ],
      "metadata": {
        "id": "GGssuDuX1vtf"
      }
    },
    {
      "cell_type": "markdown",
      "source": [
        "### **04. Plot ReLU Activation Curve**"
      ],
      "metadata": {
        "id": "S6RTYbQA1ymq"
      }
    },
    {
      "cell_type": "markdown",
      "source": [
        "Let’s visualize the ReLU function to see its sparsity behavior."
      ],
      "metadata": {
        "id": "u3bKf44l11Be"
      }
    },
    {
      "cell_type": "code",
      "source": [
        "x_vals = np.linspace(-5, 5, 200)\n",
        "relu_vals = relu(x_vals)\n",
        "\n",
        "plt.figure(figsize=(8, 5))\n",
        "plt.plot(x_vals, relu_vals, label=\"ReLU\", color=\"green\")\n",
        "plt.axhline(0, color='gray', linewidth=0.5)\n",
        "plt.title(\"ReLU Activation Function\")\n",
        "plt.xlabel(\"Input (z)\")\n",
        "plt.ylabel(\"Activation Output\")\n",
        "plt.grid(True)\n",
        "plt.legend()\n",
        "plt.show()"
      ],
      "metadata": {
        "colab": {
          "base_uri": "https://localhost:8080/",
          "height": 487
        },
        "id": "wGR09OxS12zj",
        "outputId": "87583ad6-68fa-4893-efc9-2111bc2ba8f0"
      },
      "execution_count": 6,
      "outputs": [
        {
          "output_type": "display_data",
          "data": {
            "text/plain": [
              "<Figure size 800x500 with 1 Axes>"
            ],
            "image/png": "[encoded data removed]"
          },
          "metadata": {}
        }
      ]
    },
    {
      "cell_type": "markdown",
      "source": [
        "*Explanation:*\n",
        "\n",
        "This plot shows the behavior of the ReLU function. Notice that it is linear for positive values and zero for negative values, resulting in sparse activations (many zeros)."
      ],
      "metadata": {
        "id": "RjbZrRgq16Lc"
      }
    }
  ]
}