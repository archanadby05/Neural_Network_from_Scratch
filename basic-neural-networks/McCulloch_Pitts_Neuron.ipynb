{
  "nbformat": 4,
  "nbformat_minor": 0,
  "metadata": {
    "colab": {
      "provenance": [],
      "toc_visible": true,
      "authorship_tag": "ABX9TyMYAqZfCQpuIswRz52Y+xni",
      "include_colab_link": true
    },
    "kernelspec": {
      "name": "python3",
      "display_name": "Python 3"
    },
    "language_info": {
      "name": "python"
    }
  },
  "cells": [
    {
      "cell_type": "markdown",
      "metadata": {
        "id": "view-in-github",
        "colab_type": "text"
      },
      "source": [
        "<a href=\"https://colab.research.google.com/github/archanadby05/Neural_Network_from_Scratch/blob/master/basic-neural-networks/McCulloch_Pitts_Neuron.ipynb\" target=\"_parent\"><img src=\"https://colab.research.google.com/assets/colab-badge.svg\" alt=\"Open In Colab\"/></a>"
      ]
    },
    {
      "cell_type": "markdown",
      "source": [
        "## **01. Manual Calculation**"
      ],
      "metadata": {
        "id": "mFb89WrbPfai"
      }
    },
    {
      "cell_type": "markdown",
      "source": [
        "A neuron takes multiple inputs, applies weights to them, sums the weighted inputs, and adds a bias term."
      ],
      "metadata": {
        "id": "igYQK-V1QDpO"
      }
    },
    {
      "cell_type": "markdown",
      "source": [
        "This is the basic computation behind every neural network."
      ],
      "metadata": {
        "id": "ZNLZgWFZQJ4b"
      }
    },
    {
      "cell_type": "code",
      "source": [
        "inputs = [1.2, 5.1, 2.1, 0.7]"
      ],
      "metadata": {
        "id": "Uzn3bSZ-PG6I"
      },
      "execution_count": null,
      "outputs": []
    },
    {
      "cell_type": "code",
      "source": [
        "weights1 = [0.2, 0.8, -0.5, 1.0]\n",
        "weights2 = [0.5, -0.91, 0.26, -0.5]\n",
        "weights3 = [-0.26, -0.27, 0.17, 0.87]"
      ],
      "metadata": {
        "id": "dr9pVLDXPL2l"
      },
      "execution_count": null,
      "outputs": []
    },
    {
      "cell_type": "code",
      "source": [
        "bias1 = 2\n",
        "bias2 = 3\n",
        "bias3 = 0.5"
      ],
      "metadata": {
        "id": "oYdp5a3QPNQ9"
      },
      "execution_count": null,
      "outputs": []
    },
    {
      "cell_type": "code",
      "source": [
        "# Calculating output manually for 3 neurons\n",
        "# Each output is the sum of (input_i * weight_i) + bias"
      ],
      "metadata": {
        "id": "u7Gdu7hCPOf6"
      },
      "execution_count": null,
      "outputs": []
    },
    {
      "cell_type": "code",
      "source": [
        "output = [\n",
        "    inputs[0]*weights1[0] + inputs[1]*weights1[1] + inputs[2]*weights1[2] + inputs[3]*weights1[3] + bias1,\n",
        "    inputs[0]*weights2[0] + inputs[1]*weights2[1] + inputs[2]*weights2[2] + inputs[3]*weights2[3] + bias2,\n",
        "    inputs[0]*weights3[0] + inputs[1]*weights3[1] + inputs[2]*weights3[2] + inputs[3]*weights3[3] + bias3\n",
        "]"
      ],
      "metadata": {
        "id": "urhvrI-_PRCr"
      },
      "execution_count": null,
      "outputs": []
    },
    {
      "cell_type": "code",
      "source": [
        "print(\"Output:\", output)"
      ],
      "metadata": {
        "colab": {
          "base_uri": "https://localhost:8080/"
        },
        "id": "B3C_m_jePTNJ",
        "outputId": "0e552817-49b6-4737-ae7b-7bc09a667592"
      },
      "execution_count": null,
      "outputs": [
        {
          "output_type": "stream",
          "name": "stdout",
          "text": [
            "Output: [5.970000000000001, -0.8450000000000002, -0.2230000000000001]\n"
          ]
        }
      ]
    },
    {
      "cell_type": "markdown",
      "source": [],
      "metadata": {
        "id": "PZszbOaBPz-b"
      }
    },
    {
      "cell_type": "markdown",
      "source": [
        "## **02. Using numpy.dot**"
      ],
      "metadata": {
        "id": "UNQm0FNvPyaO"
      }
    },
    {
      "cell_type": "markdown",
      "source": [
        "Instead of manually multiplying and summing each term,\n",
        "we can use the dot product (np.dot) between weights and inputs.\n",
        "\n",
        "Dot product performs (input1 * weight1) + (input2 * weight2) + ... automatically.\n",
        "After dot product, we add the biases."
      ],
      "metadata": {
        "id": "KtK3et5CP5_g"
      }
    },
    {
      "cell_type": "code",
      "source": [
        "# Instead of manually multiplying and summing each term,\n",
        "# we can use the dot product (np.dot) between weights and inputs.\n",
        "# Dot product performs (input1 * weight1) + (input2 * weight2) + ... automatically.\n",
        "# After dot product, we add the biases."
      ],
      "metadata": {
        "id": "Hf5JHBHwPw5N"
      },
      "execution_count": null,
      "outputs": []
    },
    {
      "cell_type": "code",
      "source": [
        "import numpy as np"
      ],
      "metadata": {
        "id": "X8UpIfmHP2Js"
      },
      "execution_count": null,
      "outputs": []
    },
    {
      "cell_type": "code",
      "source": [
        "inputs = [1.2, 5.1, 2.1, 0.7]"
      ],
      "metadata": {
        "id": "Wgn4dKtdQQ0M"
      },
      "execution_count": null,
      "outputs": []
    },
    {
      "cell_type": "code",
      "source": [
        "weights = [\n",
        "    [0.2, 0.8, -0.5, 1.0],\n",
        "    [0.5, -0.91, 0.26, -0.5],\n",
        "    [-0.26, -0.27, 0.17, 0.87]\n",
        "]"
      ],
      "metadata": {
        "id": "RkrimiBRQSbt"
      },
      "execution_count": null,
      "outputs": []
    },
    {
      "cell_type": "code",
      "source": [
        "biases = [2, 3, 0.5]"
      ],
      "metadata": {
        "id": "UR6kiLUAQTkC"
      },
      "execution_count": null,
      "outputs": []
    },
    {
      "cell_type": "code",
      "source": [
        "# Calculate output using dot product\n",
        "output = np.dot(weights, inputs) + biases\n",
        "print(\"Output:\", output)"
      ],
      "metadata": {
        "colab": {
          "base_uri": "https://localhost:8080/"
        },
        "id": "AFys4a9hQUvS",
        "outputId": "b32c2e22-ddc8-438c-e40d-2bcac5f136dd"
      },
      "execution_count": null,
      "outputs": [
        {
          "output_type": "stream",
          "name": "stdout",
          "text": [
            "Output: [ 5.97  -0.845 -0.223]\n"
          ]
        }
      ]
    },
    {
      "cell_type": "markdown",
      "source": [
        "## **02. Organize into a Class**"
      ],
      "metadata": {
        "id": "N8eG0ybKQeV5"
      }
    },
    {
      "cell_type": "markdown",
      "source": [
        "To make the code modular and reusable, we create a class representing a neuron layer.\n",
        "\n",
        "This way, we can create multiple layers easily and extend the network later."
      ],
      "metadata": {
        "id": "oUiXUWObQlyR"
      }
    },
    {
      "cell_type": "code",
      "source": [
        "class McCullochPittsNeuronLayer:\n",
        "    def __init__(self, weights, biases):\n",
        "        self.weights = np.array(weights)\n",
        "        self.biases = np.array(biases)\n",
        "\n",
        "    def forward(self, inputs):\n",
        "        inputs = np.array(inputs)\n",
        "        return np.dot(self.weights, inputs) + self.biases"
      ],
      "metadata": {
        "id": "8fryQk_HQiox"
      },
      "execution_count": null,
      "outputs": []
    },
    {
      "cell_type": "code",
      "source": [
        "# Initialize the neuron layer\n",
        "layer = McCullochPittsNeuronLayer(weights, biases)"
      ],
      "metadata": {
        "id": "XFyXkpDjQr_2"
      },
      "execution_count": null,
      "outputs": []
    },
    {
      "cell_type": "code",
      "source": [
        "# Forward pass through the layer\n",
        "output = layer.forward(inputs)\n",
        "print(\"Class-based Output:\", output)"
      ],
      "metadata": {
        "colab": {
          "base_uri": "https://localhost:8080/"
        },
        "id": "ZIaSIIKaQuH0",
        "outputId": "bf241449-e63f-445c-ba62-b8953f4476cf"
      },
      "execution_count": null,
      "outputs": [
        {
          "output_type": "stream",
          "name": "stdout",
          "text": [
            "Class-based Output: [ 5.97  -0.845 -0.223]\n"
          ]
        }
      ]
    }
  ]
}