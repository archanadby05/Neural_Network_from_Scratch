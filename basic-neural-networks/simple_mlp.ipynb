{
  "nbformat": 4,
  "nbformat_minor": 0,
  "metadata": {
    "colab": {
      "provenance": [],
      "authorship_tag": "ABX9TyOvCkUgxnLsFGySveKyLwkN",
      "include_colab_link": true
    },
    "kernelspec": {
      "name": "python3",
      "display_name": "Python 3"
    },
    "language_info": {
      "name": "python"
    }
  },
  "cells": [
    {
      "cell_type": "markdown",
      "metadata": {
        "id": "view-in-github",
        "colab_type": "text"
      },
      "source": [
        "<a href=\"https://colab.research.google.com/github/archanadby05/Neural_Network_from_Scratch/blob/master/basic-neural-networks/simple_mlp.ipynb\" target=\"_parent\"><img src=\"https://colab.research.google.com/assets/colab-badge.svg\" alt=\"Open In Colab\"/></a>"
      ]
    },
    {
      "cell_type": "markdown",
      "source": [
        "## Simple MLP for XOR"
      ],
      "metadata": {
        "id": "HvIMKJyuxy6s"
      }
    },
    {
      "cell_type": "markdown",
      "source": [
        "### **01. XOR Dataset**"
      ],
      "metadata": {
        "id": "OhXqL4rMx2Sc"
      }
    },
    {
      "cell_type": "markdown",
      "source": [
        "We define the XOR dataset, which we want our neural network to learn."
      ],
      "metadata": {
        "id": "vni_kRrMx7BF"
      }
    },
    {
      "cell_type": "code",
      "execution_count": 1,
      "metadata": {
        "id": "xkv3xuRmxfxL"
      },
      "outputs": [],
      "source": [
        "import numpy as np\n",
        "import matplotlib.pyplot as plt"
      ]
    },
    {
      "cell_type": "code",
      "source": [
        "# Input (XOR inputs) and target output\n",
        "X = np.array([[0, 0],\n",
        "              [0, 1],\n",
        "              [1, 0],\n",
        "              [1, 1]])\n",
        "\n",
        "y = np.array([[0],\n",
        "              [1],\n",
        "              [1],\n",
        "              [0]])"
      ],
      "metadata": {
        "id": "2-Lg7OzSx9kH"
      },
      "execution_count": 2,
      "outputs": []
    },
    {
      "cell_type": "markdown",
      "source": [
        "*Explanation:*\n",
        "\n",
        "This is the truth table of the XOR logic gate. Our model should learn to map these inputs to the correct outputs."
      ],
      "metadata": {
        "id": "Zbj-cwS1yBWD"
      }
    },
    {
      "cell_type": "markdown",
      "source": [
        "### **02. Activation Function and Derivative**"
      ],
      "metadata": {
        "id": "_n-TjP5ayEGk"
      }
    },
    {
      "cell_type": "markdown",
      "source": [
        "We define the sigmoid activation function, commonly used in MLPs, and its derivative."
      ],
      "metadata": {
        "id": "hwvV8uP8yIaT"
      }
    },
    {
      "cell_type": "code",
      "source": [
        "def sigmoid(x):\n",
        "    return 1 / (1 + np.exp(-x))\n",
        "\n",
        "def sigmoid_derivative(x):\n",
        "    sx = sigmoid(x)\n",
        "    return sx * (1 - sx)"
      ],
      "metadata": {
        "id": "Rtrq8xz2yACr"
      },
      "execution_count": 3,
      "outputs": []
    },
    {
      "cell_type": "markdown",
      "source": [
        "*Explanation:*\n",
        "\n",
        "The sigmoid squashes input to range (0, 1). Its derivative is needed for backpropagation."
      ],
      "metadata": {
        "id": "oI2lIEAGyLim"
      }
    },
    {
      "cell_type": "markdown",
      "source": [
        "### **03. Initialize Weights and Biases**"
      ],
      "metadata": {
        "id": "KAjY2RjUyOF5"
      }
    },
    {
      "cell_type": "markdown",
      "source": [
        "We randomly initialize weights and biases for the input and hidden layers."
      ],
      "metadata": {
        "id": "lgRm22rOyTef"
      }
    },
    {
      "cell_type": "code",
      "source": [
        "np.random.seed(42)  # for reproducibility\n",
        "\n",
        "input_dim = 2\n",
        "hidden_dim = 2\n",
        "output_dim = 1\n",
        "\n",
        "# Weights and biases\n",
        "W1 = np.random.randn(input_dim, hidden_dim)\n",
        "b1 = np.zeros((1, hidden_dim))\n",
        "W2 = np.random.randn(hidden_dim, output_dim)\n",
        "b2 = np.zeros((1, output_dim))"
      ],
      "metadata": {
        "id": "usBvWtoSyKd-"
      },
      "execution_count": 4,
      "outputs": []
    },
    {
      "cell_type": "markdown",
      "source": [
        "*Explanation:*\n",
        "\n",
        "We use 2 neurons in the hidden layer. The weights and biases will be updated using gradient descent."
      ],
      "metadata": {
        "id": "g5BpGdYjyXjw"
      }
    },
    {
      "cell_type": "markdown",
      "source": [
        "### **04. Training Loop (Forward + Backward)**"
      ],
      "metadata": {
        "id": "DUI8ayHjyZq8"
      }
    },
    {
      "cell_type": "markdown",
      "source": [
        "We manually implement the forward and backward pass to update weights using gradient descent."
      ],
      "metadata": {
        "id": "xS__WFovydW1"
      }
    },
    {
      "cell_type": "code",
      "source": [
        "lr = 0.1\n",
        "epochs = 10000\n",
        "losses = []\n",
        "\n",
        "for epoch in range(epochs):\n",
        "    # Forward pass\n",
        "    z1 = np.dot(X, W1) + b1\n",
        "    a1 = sigmoid(z1)\n",
        "    z2 = np.dot(a1, W2) + b2\n",
        "    a2 = sigmoid(z2)\n",
        "\n",
        "    # Compute loss (mean squared error)\n",
        "    loss = np.mean((y - a2) ** 2)\n",
        "    losses.append(loss)\n",
        "\n",
        "    # Backpropagation\n",
        "    d_a2 = a2 - y\n",
        "    d_z2 = d_a2 * sigmoid_derivative(z2)\n",
        "    d_W2 = np.dot(a1.T, d_z2)\n",
        "    d_b2 = np.sum(d_z2, axis=0, keepdims=True)\n",
        "\n",
        "    d_a1 = np.dot(d_z2, W2.T)\n",
        "    d_z1 = d_a1 * sigmoid_derivative(z1)\n",
        "    d_W1 = np.dot(X.T, d_z1)\n",
        "    d_b1 = np.sum(d_z1, axis=0, keepdims=True)\n",
        "\n",
        "    # Gradient descent updates\n",
        "    W2 -= lr * d_W2\n",
        "    b2 -= lr * d_b2\n",
        "    W1 -= lr * d_W1\n",
        "    b1 -= lr * d_b1"
      ],
      "metadata": {
        "id": "FI6hdRLYyWFO"
      },
      "execution_count": 5,
      "outputs": []
    },
    {
      "cell_type": "markdown",
      "source": [
        "*Explanation:*\n",
        "\n",
        "This loop trains the MLP using basic backpropagation. Gradients are computed manually."
      ],
      "metadata": {
        "id": "fBO7-BR6yhbO"
      }
    },
    {
      "cell_type": "markdown",
      "source": [
        "### **05. Output and Evaluation**"
      ],
      "metadata": {
        "id": "AwxAFRCUyjjK"
      }
    },
    {
      "cell_type": "code",
      "source": [
        "# Predictions\n",
        "print(\"Predictions after training:\")\n",
        "print(np.round(a2))"
      ],
      "metadata": {
        "colab": {
          "base_uri": "https://localhost:8080/"
        },
        "id": "gQzvVOrTygAd",
        "outputId": "31dcf17b-d526-40ea-bd52-c9aa674a7635"
      },
      "execution_count": 6,
      "outputs": [
        {
          "output_type": "stream",
          "name": "stdout",
          "text": [
            "Predictions after training:\n",
            "[[0.]\n",
            " [0.]\n",
            " [1.]\n",
            " [1.]]\n"
          ]
        }
      ]
    },
    {
      "cell_type": "markdown",
      "source": [
        "*Explanation:*\n",
        "\n",
        "After training, the model should correctly output [0, 1, 1, 0] for XOR inputs."
      ],
      "metadata": {
        "id": "vv2mTEUAyomZ"
      }
    },
    {
      "cell_type": "markdown",
      "source": [
        "### **06. Plot Loss Curve**"
      ],
      "metadata": {
        "id": "MVp4SgFEyrIk"
      }
    },
    {
      "cell_type": "markdown",
      "source": [
        "We visualize how the loss decreases during training."
      ],
      "metadata": {
        "id": "UaiCljwryuYH"
      }
    },
    {
      "cell_type": "code",
      "source": [
        "plt.plot(losses)\n",
        "plt.title(\"Training Loss\")\n",
        "plt.xlabel(\"Epoch\")\n",
        "plt.ylabel(\"MSE Loss\")\n",
        "plt.grid(True)\n",
        "plt.show()"
      ],
      "metadata": {
        "colab": {
          "base_uri": "https://localhost:8080/",
          "height": 472
        },
        "id": "R0rxN6Gyymow",
        "outputId": "1d337277-064a-4eb9-ec24-2f658d9a8c1c"
      },
      "execution_count": 7,
      "outputs": [
        {
          "output_type": "display_data",
          "data": {
            "text/plain": [
              "<Figure size 640x480 with 1 Axes>"
            ],
            "image/png": "[encoded data removed]"
          },
          "metadata": {}
        }
      ]
    },
    {
      "cell_type": "markdown",
      "source": [
        "*Explanation:*\n",
        "\n",
        "This shows that the model is learning by observing the reduction in loss over time."
      ],
      "metadata": {
        "id": "3GsBiCuxyzel"
      }
    }
  ]
}