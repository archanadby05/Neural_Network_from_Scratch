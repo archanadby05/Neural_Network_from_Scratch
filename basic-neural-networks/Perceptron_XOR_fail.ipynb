{
  "cells": [
    {
      "cell_type": "markdown",
      "metadata": {
        "id": "view-in-github",
        "colab_type": "text"
      },
      "source": [
        "<a href=\"https://colab.research.google.com/github/archanadby05/Neural_Network_from_Scratch/blob/master/basic-neural-networks/Perceptron_XOR_fail.ipynb\" target=\"_parent\"><img src=\"https://colab.research.google.com/assets/colab-badge.svg\" alt=\"Open In Colab\"/></a>"
      ]
    },
    {
      "cell_type": "markdown",
      "source": [
        "## **XOR Problem**\n",
        "\n",
        "\n"
      ],
      "metadata": {
        "id": "e-fdHKdUcwNk"
      },
      "id": "e-fdHKdUcwNk"
    },
    {
      "cell_type": "markdown",
      "id": "c4c7884c",
      "metadata": {
        "id": "c4c7884c"
      },
      "source": [
        "The XOR (exclusive OR) gate has an output of `1` only when the inputs differ, i.e., `(0, 1)` or `(1, 0)`.\n",
        "\n",
        "The problem with XOR is that it's **not linearly separable**—there is no straight line that can separate the `1`s from the `0`s."
      ]
    },
    {
      "cell_type": "markdown",
      "source": [
        "## **01. Defining inputs and outputs for XOR gate**"
      ],
      "metadata": {
        "id": "kudXxEwNdEvo"
      },
      "id": "kudXxEwNdEvo"
    },
    {
      "cell_type": "markdown",
      "id": "aa636780",
      "metadata": {
        "id": "aa636780"
      },
      "source": [
        "We define the inputs and the expected outputs for the XOR gate. These values represent the truth table for XOR:"
      ]
    },
    {
      "cell_type": "code",
      "execution_count": 1,
      "id": "87d7c960",
      "metadata": {
        "id": "87d7c960"
      },
      "outputs": [],
      "source": [
        "import numpy as np\n",
        "\n",
        "# XOR gate inputs and expected outputs\n",
        "inputs = np.array([[0, 0], [0, 1], [1, 0], [1, 1]])\n",
        "labels = np.array([0, 1, 1, 0])"
      ]
    },
    {
      "cell_type": "markdown",
      "source": [
        "## **02. Train Perceptron on XOR data**"
      ],
      "metadata": {
        "id": "jEYgh6GhdfMD"
      },
      "id": "jEYgh6GhdfMD"
    },
    {
      "cell_type": "markdown",
      "id": "1fc50046",
      "metadata": {
        "id": "1fc50046"
      },
      "source": [
        "Now we define the perceptron class, with methods for training (`fit`) and prediction (`predict`).\n",
        "\n",
        "It uses a simple step function to output either `1` or `0."
      ]
    },
    {
      "cell_type": "code",
      "execution_count": 2,
      "id": "4b184d11",
      "metadata": {
        "id": "4b184d11"
      },
      "outputs": [],
      "source": [
        "class Perceptron:\n",
        "    def __init__(self, input_dim, learning_rate=0.1, epochs=1000):\n",
        "        self.input_dim = input_dim\n",
        "        self.learning_rate = learning_rate\n",
        "        self.epochs = epochs\n",
        "        self.weights = np.zeros(input_dim)\n",
        "        self.bias = 0\n",
        "\n",
        "    def step_function(self, x):\n",
        "        if x >= 0:\n",
        "          return 1\n",
        "        else:\n",
        "          return 0\n",
        "\n",
        "    def fit(self, X, y):\n",
        "        for epoch in range(self.epochs):\n",
        "            for inputs, label in zip(X, y):\n",
        "                weighted_sum = np.dot(inputs, self.weights) + self.bias\n",
        "                prediction = self.step_function(weighted_sum)\n",
        "                error = label - prediction\n",
        "                self.weights += self.learning_rate * error * inputs\n",
        "                self.bias += self.learning_rate * error\n",
        "\n",
        "    def predict(self, X):\n",
        "        return [self.step_function(np.dot(inputs, self.weights) + self.bias) for inputs in X]"
      ]
    },
    {
      "cell_type": "code",
      "execution_count": 3,
      "id": "d2d6289b",
      "metadata": {
        "colab": {
          "base_uri": "https://localhost:8080/"
        },
        "id": "d2d6289b",
        "outputId": "e0783ce7-9fb8-4cd2-8c76-22f4e3ecda6a"
      },
      "outputs": [
        {
          "output_type": "stream",
          "name": "stdout",
          "text": [
            "Perceptron predictions for XOR: [1, 1, 0, 0]\n"
          ]
        }
      ],
      "source": [
        "# Initialize\n",
        "perceptron = Perceptron(input_dim=2)\n",
        "\n",
        "# Train\n",
        "perceptron.fit(inputs, labels)\n",
        "\n",
        "# Predict\n",
        "predictions = perceptron.predict(inputs)\n",
        "print(\"Perceptron predictions for XOR:\", predictions)"
      ]
    },
    {
      "cell_type": "markdown",
      "source": [
        "## **03. Failed on XOR - (No learning)**"
      ],
      "metadata": {
        "id": "NNoCZo6SeUXS"
      },
      "id": "NNoCZo6SeUXS"
    },
    {
      "cell_type": "markdown",
      "id": "22e87219",
      "metadata": {
        "id": "22e87219"
      },
      "source": [
        "Since XOR is not linearly separable, the perceptron will not be able to learn this function correctly, no matter how many epochs we train for.\n",
        "\n",
        "You should observe that the perceptron’s predictions for XOR do not match the expected output."
      ]
    },
    {
      "cell_type": "markdown",
      "id": "fa29e40f",
      "metadata": {
        "id": "fa29e40f"
      },
      "source": [
        "### **Why Does It Fail?**\n",
        "The perceptron fails because XOR is **non-linearly separable**. The perceptron algorithm assumes linear separability (i.e., a straight line can separate classes), but XOR requires a more complex decision boundary, which the perceptron cannot learn."
      ]
    },
    {
      "cell_type": "markdown",
      "source": [
        "## **03. Visualize the Output**\n",
        "\n"
      ],
      "metadata": {
        "id": "G4FFhKVVelDv"
      },
      "id": "G4FFhKVVelDv"
    },
    {
      "cell_type": "code",
      "source": [
        "import matplotlib.pyplot as plt"
      ],
      "metadata": {
        "id": "tK91H8dPer7s"
      },
      "id": "tK91H8dPer7s",
      "execution_count": 4,
      "outputs": []
    },
    {
      "cell_type": "code",
      "execution_count": 5,
      "id": "75682194",
      "metadata": {
        "id": "75682194"
      },
      "outputs": [],
      "source": [
        "def plot_decision_boundary(X, y, model, title=\"Decision Boundary\"):\n",
        "    x_min, x_max = X[:, 0].min() - 1, X[:, 0].max() + 1\n",
        "    y_min, y_max = X[:, 1].min() - 1, X[:, 1].max() + 1\n",
        "    xx, yy = np.meshgrid(np.arange(x_min, x_max, 0.1), np.arange(y_min, y_max, 0.1))\n",
        "    grid_points = np.c_[xx.ravel(), yy.ravel()]\n",
        "    predictions = np.array(model.predict(grid_points)).reshape(xx.shape)\n",
        "\n",
        "    plt.contourf(xx, yy, predictions, alpha=0.4)\n",
        "    plt.scatter(X[:, 0], X[:, 1], c=y, edgecolors='k', marker='o', s=100, cmap=plt.cm.RdYlBu)\n",
        "    plt.title(title)\n",
        "    plt.show()"
      ]
    },
    {
      "cell_type": "code",
      "source": [
        "plot_decision_boundary(inputs, labels, perceptron, title=\"XOR Gate Decision Boundary\")"
      ],
      "metadata": {
        "colab": {
          "base_uri": "https://localhost:8080/",
          "height": 452
        },
        "id": "qzVU6hXRevBr",
        "outputId": "1cf91c72-90fe-4aef-dfdc-b5aaa8019f99"
      },
      "id": "qzVU6hXRevBr",
      "execution_count": 6,
      "outputs": [
        {
          "output_type": "display_data",
          "data": {
            "text/plain": [
              "<Figure size 640x480 with 1 Axes>"
            ],
            "image/png": "[encoded data removed]"
          },
          "metadata": {}
        }
      ]
    },
    {
      "cell_type": "markdown",
      "id": "5babf2e3",
      "metadata": {
        "id": "5babf2e3"
      },
      "source": [
        "## **Conclusion**\n",
        "This optional step visualizes the decision boundary the perceptron creates after training. Since XOR is non-linearly separable, the perceptron will not generate an accurate decision boundary."
      ]
    }
  ],
  "metadata": {
    "colab": {
      "provenance": [],
      "include_colab_link": true
    },
    "language_info": {
      "name": "python"
    },
    "kernelspec": {
      "name": "python3",
      "display_name": "Python 3"
    }
  },
  "nbformat": 4,
  "nbformat_minor": 5
}