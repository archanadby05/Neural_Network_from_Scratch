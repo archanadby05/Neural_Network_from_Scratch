{
  "nbformat": 4,
  "nbformat_minor": 0,
  "metadata": {
    "colab": {
      "provenance": [],
      "authorship_tag": "ABX9TyOc/3xgBudaswyXIvIcRufc",
      "include_colab_link": true
    },
    "kernelspec": {
      "name": "python3",
      "display_name": "Python 3"
    },
    "language_info": {
      "name": "python"
    }
  },
  "cells": [
    {
      "cell_type": "markdown",
      "metadata": {
        "id": "view-in-github",
        "colab_type": "text"
      },
      "source": [
        "<a href=\"https://colab.research.google.com/github/archanadby05/Neural_Network_from_Scratch/blob/master/basic-neural-networks/gradient_descent_sigmoid_neuron_training.ipynb\" target=\"_parent\"><img src=\"https://colab.research.google.com/assets/colab-badge.svg\" alt=\"Open In Colab\"/></a>"
      ]
    },
    {
      "cell_type": "markdown",
      "source": [
        "## Gradient Descent for Sigmoid Neuron"
      ],
      "metadata": {
        "id": "vd8hMupfv48z"
      }
    },
    {
      "cell_type": "markdown",
      "source": [
        "### **01. Setup and Sigmoid Function**"
      ],
      "metadata": {
        "id": "cquOMXqKv78D"
      }
    },
    {
      "cell_type": "markdown",
      "source": [
        "We begin by importing required libraries and defining the sigmoid and its derivative for gradient calculations."
      ],
      "metadata": {
        "id": "Vcv04WR9wAbL"
      }
    },
    {
      "cell_type": "code",
      "execution_count": 1,
      "metadata": {
        "id": "pbv1xBmsvmuC"
      },
      "outputs": [],
      "source": [
        "import numpy as np\n",
        "import matplotlib.pyplot as plt\n",
        "\n",
        "def sigmoid(x):\n",
        "    return 1 / (1 + np.exp(-x))\n",
        "\n",
        "def sigmoid_derivative(x):\n",
        "    s = sigmoid(x)\n",
        "    return s * (1 - s)"
      ]
    },
    {
      "cell_type": "markdown",
      "source": [
        "*Explanation:*\n",
        "\n",
        "The sigmoid function outputs values between 0 and 1. Its derivative is essential for computing gradients during training."
      ],
      "metadata": {
        "id": "AJxhFES9wEG9"
      }
    },
    {
      "cell_type": "markdown",
      "source": [
        "### **02. Create SigmoidNeuron Class**"
      ],
      "metadata": {
        "id": "ZMlzuyBxwJj6"
      }
    },
    {
      "cell_type": "markdown",
      "source": [
        "This class handles forward pass, loss computation, and gradient updates using gradient descent."
      ],
      "metadata": {
        "id": "Yq8HielzwMH2"
      }
    },
    {
      "cell_type": "code",
      "source": [
        "class SigmoidNeuron:\n",
        "    def __init__(self, input_dim, learning_rate=0.1):\n",
        "        self.weights = np.zeros(input_dim)\n",
        "        self.bias = 0\n",
        "        self.lr = learning_rate\n",
        "\n",
        "    def forward(self, x):\n",
        "        self.z = np.dot(x, self.weights) + self.bias\n",
        "        self.a = sigmoid(self.z)\n",
        "        return self.a\n",
        "\n",
        "    def compute_loss(self, y_true, y_pred):\n",
        "        return np.mean((y_true - y_pred) ** 2)\n",
        "\n",
        "    def train(self, X, y, epochs=1000):\n",
        "        losses = []\n",
        "        for epoch in range(epochs):\n",
        "            total_loss = 0\n",
        "            for xi, yi in zip(X, y):\n",
        "                output = self.forward(xi)\n",
        "                loss = self.compute_loss(yi, output)\n",
        "                total_loss += loss\n",
        "\n",
        "                dL_da = -2 * (yi - output)\n",
        "                da_dz = sigmoid_derivative(self.z)\n",
        "                dz_dw = xi\n",
        "                dz_db = 1\n",
        "\n",
        "                dL_dw = dL_da * da_dz * dz_dw\n",
        "                dL_db = dL_da * da_dz * dz_db\n",
        "\n",
        "                self.weights -= self.lr * dL_dw\n",
        "                self.bias -= self.lr * dL_db\n",
        "            losses.append(total_loss / len(X))\n",
        "        return losses"
      ],
      "metadata": {
        "id": "7u9PX5P5wCN2"
      },
      "execution_count": 2,
      "outputs": []
    },
    {
      "cell_type": "markdown",
      "source": [
        "*Explanation:*\n",
        "\n",
        "The train() function uses manual gradient computation to update weights and bias. We store loss for each epoch to track training progress."
      ],
      "metadata": {
        "id": "Wc_gKkp0wP0Q"
      }
    },
    {
      "cell_type": "markdown",
      "source": [
        "### **03. Train on a Simple Dataset**"
      ],
      "metadata": {
        "id": "QpcA_RykwTew"
      }
    },
    {
      "cell_type": "markdown",
      "source": [
        "Train the neuron on a small linearly-separable dataset."
      ],
      "metadata": {
        "id": "XnGms4EKwVnV"
      }
    },
    {
      "cell_type": "code",
      "source": [
        "X = np.array([[0, 0], [0, 1], [1, 0], [1, 1]])\n",
        "y = np.array([0, 1, 1, 1])                       # OR gate behavior\n",
        "\n",
        "neuron = SigmoidNeuron(input_dim=2, learning_rate=0.1)\n",
        "losses = neuron.train(X, y, epochs=1000)\n",
        "\n",
        "# Final predictions\n",
        "for xi in X:\n",
        "    print(f\"Input: {xi}, Output: {neuron.forward(xi):.4f}\")"
      ],
      "metadata": {
        "colab": {
          "base_uri": "https://localhost:8080/"
        },
        "id": "2MNj7DZbwOeB",
        "outputId": "e962c662-69c3-4996-f895-226a17945e69"
      },
      "execution_count": 4,
      "outputs": [
        {
          "output_type": "stream",
          "name": "stdout",
          "text": [
            "Input: [0 0], Output: 0.1376\n",
            "Input: [0 1], Output: 0.9163\n",
            "Input: [1 0], Output: 0.9162\n",
            "Input: [1 1], Output: 0.9987\n"
          ]
        }
      ]
    },
    {
      "cell_type": "markdown",
      "source": [
        "*Explanation:*\n",
        "\n",
        "We use OR gate data to demonstrate how the neuron learns using sigmoid activation and gradient descent."
      ],
      "metadata": {
        "id": "WLl0BkLkwfTL"
      }
    },
    {
      "cell_type": "markdown",
      "source": [
        "### **04. Plot Loss Curve**"
      ],
      "metadata": {
        "id": "BH2xmntvwjHd"
      }
    },
    {
      "cell_type": "markdown",
      "source": [
        "Visualize the loss over time to confirm learning."
      ],
      "metadata": {
        "id": "BfbnbbHMwk2R"
      }
    },
    {
      "cell_type": "code",
      "source": [
        "plt.plot(losses)\n",
        "plt.title(\"Training Loss Over Epochs\")\n",
        "plt.xlabel(\"Epoch\")\n",
        "plt.ylabel(\"MSE Loss\")\n",
        "plt.grid(True)\n",
        "plt.show()"
      ],
      "metadata": {
        "colab": {
          "base_uri": "https://localhost:8080/",
          "height": 472
        },
        "id": "KF2GuOpLwZ2t",
        "outputId": "e03f7fe9-5afa-4f79-ce1e-da8b4a7290e3"
      },
      "execution_count": 5,
      "outputs": [
        {
          "output_type": "display_data",
          "data": {
            "text/plain": [
              "<Figure size 640x480 with 1 Axes>"
            ],
            "image/png": "[encoded data removed]"
          },
          "metadata": {}
        }
      ]
    },
    {
      "cell_type": "markdown",
      "source": [
        "*Explanation:*\n",
        "\n",
        "The loss curve helps verify that the model is converging during training."
      ],
      "metadata": {
        "id": "p-8gOAFLwoGD"
      }
    }
  ]
}